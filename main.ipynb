{
 "cells": [
  {
   "cell_type": "code",
   "execution_count": 26,
   "metadata": {},
   "outputs": [],
   "source": [
    "from PIL import Image\n",
    "import sys\n",
    "import numpy as np\n",
    "import matplotlib.pyplot as plt"
   ]
  },
  {
   "cell_type": "code",
   "execution_count": 27,
   "metadata": {},
   "outputs": [],
   "source": [
    "im1 = Image.open('photos/1.png').convert('L')\n",
    "im2 = Image.open('photos/2.png').convert('L')\n",
    "im3 = Image.open('photos/3.jpg').convert('L')\n",
    "im4 = Image.open('photos/4.jpg').convert('L')\n",
    "im5 = Image.open('photos/5.jpg').convert('L')"
   ]
  },
  {
   "cell_type": "code",
   "execution_count": 28,
   "metadata": {},
   "outputs": [],
   "source": [
    "arr1 = np.array(img1)\n",
    "arr2 = np.array(img2)\n",
    "arr3 = np.array(img3)\n",
    "arr4 = np.array(img4)\n",
    "arr5 = np.array(img5)"
   ]
  },
  {
   "cell_type": "code",
   "execution_count": 32,
   "metadata": {},
   "outputs": [],
   "source": [
    "wh1, ht1 = im1.size\n",
    "for i in range(wh):\n",
    "    for j in range(ht):\n",
    "        if(arr1[j][i] > 127):\n",
    "            arr1[j][i] = 255\n",
    "        else:\n",
    "            arr1[j][i] = 0"
   ]
  },
  {
   "cell_type": "code",
   "execution_count": 39,
   "metadata": {},
   "outputs": [],
   "source": [
    "wh2, ht2 = im2.size\n",
    "for i in range(wh):\n",
    "    for j in range(ht):\n",
    "        if(arr2[j][i] > 127):\n",
    "            arr2[j][i] = 255\n",
    "        else:\n",
    "            arr2[j][i] = 0"
   ]
  },
  {
   "cell_type": "code",
   "execution_count": 40,
   "metadata": {},
   "outputs": [],
   "source": [
    "wh3, ht3 = im3.size\n",
    "for i in range(wh):\n",
    "    for j in range(ht):\n",
    "        if(arr3[j][i] > 127):\n",
    "            arr3[j][i] = 255\n",
    "        else:\n",
    "            arr3[j][i] = 0"
   ]
  },
  {
   "cell_type": "code",
   "execution_count": 41,
   "metadata": {},
   "outputs": [],
   "source": [
    "wh4, ht4 = im4.size\n",
    "for i in range(wh):\n",
    "    for j in range(ht):\n",
    "        if(arr4[j][i] > 127):\n",
    "            arr4[j][i] = 255\n",
    "        else:\n",
    "            arr4[j][i] = 0"
   ]
  },
  {
   "cell_type": "code",
   "execution_count": 42,
   "metadata": {},
   "outputs": [],
   "source": [
    "wh, ht = im5.size\n",
    "for i in range(wh):\n",
    "    for j in range(ht):\n",
    "        if(arr5[j][i] > 127):\n",
    "            arr5[j][i] = 255\n",
    "        else:\n",
    "            arr5[j][i] = 0"
   ]
  }
 ],
 "metadata": {
  "kernelspec": {
   "display_name": "Python 3",
   "language": "python",
   "name": "python3"
  },
  "language_info": {
   "codemirror_mode": {
    "name": "ipython",
    "version": 3
   },
   "file_extension": ".py",
   "mimetype": "text/x-python",
   "name": "python",
   "nbconvert_exporter": "python",
   "pygments_lexer": "ipython3",
   "version": "3.8.5"
  }
 },
 "nbformat": 4,
 "nbformat_minor": 4
}
