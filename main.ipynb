{
 "cells": [
  {
   "cell_type": "code",
   "execution_count": 26,
   "metadata": {},
   "outputs": [],
   "source": [
    "from PIL import Image\n",
    "import sys\n",
    "import numpy as np\n",
    "import matplotlib.pyplot as plt"
   ]
  },
  {
   "cell_type": "code",
   "execution_count": 85,
   "metadata": {},
   "outputs": [],
   "source": [
    "im1 = Image.open('input/1.png').convert('L')\n",
    "im2 = Image.open('input/2.png').convert('L')\n",
    "im3 = Image.open('input/3.jpg').convert('L')\n",
    "im4 = Image.open('input/4.jpg').convert('L')\n",
    "im5 = Image.open('input/5.jpg').convert('L')"
   ]
  },
  {
   "cell_type": "code",
   "execution_count": 86,
   "metadata": {},
   "outputs": [],
   "source": [
    "arr1 = np.array(img1)\n",
    "arr2 = np.array(img2)\n",
    "arr3 = np.array(img3)\n",
    "arr4 = np.array(img4)\n",
    "arr5 = np.array(img5)"
   ]
  },
  {
   "cell_type": "code",
   "execution_count": 87,
   "metadata": {},
   "outputs": [],
   "source": [
    "wh1, ht1 = im1.size\n",
    "for i in range(wh1):\n",
    "    for j in range(ht1):\n",
    "        if(arr1[j][i] > 127):\n",
    "            arr1[j][i] = 255\n",
    "        else:\n",
    "            arr1[j][i] = 0"
   ]
  },
  {
   "cell_type": "code",
   "execution_count": 88,
   "metadata": {},
   "outputs": [],
   "source": [
    "wh2, ht2 = im2.size\n",
    "for i in range(wh2):\n",
    "    for j in range(ht2):\n",
    "        if(arr2[j][i] > 127):\n",
    "            arr2[j][i] = 255\n",
    "        else:\n",
    "            arr2[j][i] = 0"
   ]
  },
  {
   "cell_type": "code",
   "execution_count": 89,
   "metadata": {},
   "outputs": [],
   "source": [
    "wh3, ht3 = im3.size\n",
    "for i in range(wh3):\n",
    "    for j in range(ht3):\n",
    "        if(arr3[j][i] > 127):\n",
    "            arr3[j][i] = 255\n",
    "        else:\n",
    "            arr3[j][i] = 0"
   ]
  },
  {
   "cell_type": "code",
   "execution_count": 90,
   "metadata": {},
   "outputs": [],
   "source": [
    "wh4, ht4 = im4.size\n",
    "for i in range(wh4):\n",
    "    for j in range(ht4):\n",
    "        if(arr4[j][i] > 127):\n",
    "            arr4[j][i] = 255\n",
    "        else:\n",
    "            arr4[j][i] = 0"
   ]
  },
  {
   "cell_type": "code",
   "execution_count": 91,
   "metadata": {},
   "outputs": [],
   "source": [
    "wh5, ht5 = im5.size\n",
    "for i in range(wh5):\n",
    "    for j in range(ht5):\n",
    "        if(arr5[j][i] > 127):\n",
    "            arr5[j][i] = 255\n",
    "        else:\n",
    "            arr5[j][i] = 0"
   ]
  },
  {
   "cell_type": "code",
   "execution_count": 92,
   "metadata": {},
   "outputs": [],
   "source": [
    "newim1 = Image.fromarray(arr1).convert('RGB')\n",
    "newim2 = Image.fromarray(arr2).convert('RGB')\n",
    "newim3 = Image.fromarray(arr3).convert('RGB')\n",
    "newim4 = Image.fromarray(arr4).convert('RGB')\n",
    "newim5 = Image.fromarray(arr5).convert('RGB')"
   ]
  },
  {
   "cell_type": "code",
   "execution_count": 94,
   "metadata": {},
   "outputs": [],
   "source": [
    "newim1.save('output/1.png')\n",
    "newim2.save('output/2.png')\n",
    "newim3.save('output/3.png')\n",
    "newim4.save('output/4.png')\n",
    "newim5.save('output/5.png')"
   ]
  }
 ],
 "metadata": {
  "kernelspec": {
   "display_name": "Python 3",
   "language": "python",
   "name": "python3"
  },
  "language_info": {
   "codemirror_mode": {
    "name": "ipython",
    "version": 3
   },
   "file_extension": ".py",
   "mimetype": "text/x-python",
   "name": "python",
   "nbconvert_exporter": "python",
   "pygments_lexer": "ipython3",
   "version": "3.8.5"
  }
 },
 "nbformat": 4,
 "nbformat_minor": 4
}
