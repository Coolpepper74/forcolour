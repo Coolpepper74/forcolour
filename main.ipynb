{
 "cells": [
  {
   "cell_type": "code",
   "execution_count": 26,
   "metadata": {},
   "outputs": [],
   "source": [
    "from PIL import Image\n",
    "import sys\n",
    "import numpy as np\n",
    "import matplotlib.pyplot as plt"
   ]
  },
  {
   "cell_type": "code",
   "execution_count": 102,
   "metadata": {},
   "outputs": [],
   "source": [
    "im1 = Image.open('input/1.png').convert('L')\n",
    "im2 = Image.open('input/2.png').convert('L')\n",
    "im3 = Image.open('input/3.jpg').convert('L')\n",
    "im4 = Image.open('input/4.jpg').convert('L')\n",
    "im5 = Image.open('input/5.jpg').convert('L')"
   ]
  },
  {
   "cell_type": "code",
   "execution_count": 100,
   "metadata": {},
   "outputs": [],
   "source": [
    "def binarization(im):\n",
    "    wh, ht = im.size\n",
    "    arr = np.array(im)\n",
    "    for i in range(wh):\n",
    "        for j in range(ht):\n",
    "            if(arr[j][i] > 127):\n",
    "                arr[j][i] = 255\n",
    "            else:\n",
    "                arr[j][i] = 0\n",
    "    return arr"
   ]
  },
  {
   "cell_type": "code",
   "execution_count": 103,
   "metadata": {},
   "outputs": [],
   "source": [
    "arr1 = binarization(im1)\n",
    "arr2 = binarization(im2)\n",
    "arr3 = binarization(im3)\n",
    "arr4 = binarization(im4)\n",
    "arr5 = binarization(im5)"
   ]
  },
  {
   "cell_type": "code",
   "execution_count": 92,
   "metadata": {},
   "outputs": [],
   "source": [
    "newim1 = Image.fromarray(arr1).convert('RGB')\n",
    "newim2 = Image.fromarray(arr2).convert('RGB')\n",
    "newim3 = Image.fromarray(arr3).convert('RGB')\n",
    "newim4 = Image.fromarray(arr4).convert('RGB')\n",
    "newim5 = Image.fromarray(arr5).convert('RGB')"
   ]
  },
  {
   "cell_type": "code",
   "execution_count": 94,
   "metadata": {},
   "outputs": [],
   "source": [
    "newim1.save('output/1.png')\n",
    "newim2.save('output/2.png')\n",
    "newim3.save('output/3.png')\n",
    "newim4.save('output/4.png')\n",
    "newim5.save('output/5.png')"
   ]
  },
  {
   "cell_type": "code",
   "execution_count": null,
   "metadata": {},
   "outputs": [],
   "source": []
  }
 ],
 "metadata": {
  "kernelspec": {
   "display_name": "Python 3",
   "language": "python",
   "name": "python3"
  },
  "language_info": {
   "codemirror_mode": {
    "name": "ipython",
    "version": 3
   },
   "file_extension": ".py",
   "mimetype": "text/x-python",
   "name": "python",
   "nbconvert_exporter": "python",
   "pygments_lexer": "ipython3",
   "version": "3.8.5"
  }
 },
 "nbformat": 4,
 "nbformat_minor": 4
}
